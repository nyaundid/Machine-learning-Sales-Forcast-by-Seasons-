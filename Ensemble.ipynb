{
 "cells": [
  {
   "cell_type": "markdown",
   "metadata": {},
   "source": [
    "### Ensemble "
   ]
  },
  {
   "cell_type": "code",
   "execution_count": 1,
   "metadata": {
    "collapsed": true
   },
   "outputs": [],
   "source": [
    "# Importing required libraries\n",
    "import pandas as pd\n",
    "import numpy as np\n",
    "import os\n",
    "\n",
    "from matplotlib import pyplot as plt\n",
    "import seaborn as sns \n",
    "%matplotlib inline\n",
    "from datetime import datetime\n",
    "from sklearn import linear_model\n",
    "from sklearn.model_selection import cross_val_score\n",
    "from sklearn.linear_model import LogisticRegression\n",
    "from sklearn import svm\n",
    "from sklearn.ensemble import VotingClassifier,RandomForestClassifier\n",
    "from sklearn import svm\n",
    "import scikitplot as skplt\n",
    "from sklearn.svm import l1_min_c\n",
    "from sklearn.metrics import accuracy_score,classification_report,confusion_matrix\n",
    "import scikitplot as skplt\n",
    "from sklearn.tree import DecisionTreeClassifier"
   ]
  },
  {
   "cell_type": "code",
   "execution_count": 2,
   "metadata": {
    "collapsed": true
   },
   "outputs": [],
   "source": [
    "# Reading training dataset\n",
    "userhome = os.path.expanduser('~')\n",
    "path = '/Documents/Sem3/MachineLearning/Project/datav2/'\n",
    "X_train = pd.read_csv(userhome + path + 'X_train_v2.csv')\n",
    "Y_train = pd.read_csv(userhome + path + 'Y_train_v2.csv',header=None )"
   ]
  },
  {
   "cell_type": "code",
   "execution_count": 3,
   "metadata": {
    "collapsed": true
   },
   "outputs": [],
   "source": [
    "Y_train = Y_train.iloc[:,0]"
   ]
  },
  {
   "cell_type": "code",
   "execution_count": 8,
   "metadata": {},
   "outputs": [],
   "source": [
    "## with lasso Log Reg\n",
    "clf1 = linear_model.LogisticRegression(C=100, penalty='l1')\n",
    "# with SVM\n",
    "clf2 = svm.SVC(C=300,kernel='linear',probability=True)\n",
    "#with feature bagging\n",
    "clf3 = RandomForestClassifier(n_estimators=1000, criterion='gini', max_depth=None,min_samples_split=2, min_samples_leaf=1, min_weight_fraction_leaf=0.0, max_features='auto', max_leaf_nodes=None,bootstrap=True, \n",
    "                                                     oob_score=False, n_jobs=1,random_state=None, verbose=0, warm_start=False,class_weight=None)\n",
    "  \n"
   ]
  },
  {
   "cell_type": "code",
   "execution_count": 9,
   "metadata": {
    "scrolled": false
   },
   "outputs": [
    {
     "name": "stdout",
     "output_type": "stream",
     "text": [
      "[1 1 1 ..., 1 1 0]\n",
      "[1 1 1 ..., 1 1 0]\n"
     ]
    }
   ],
   "source": [
    "start = datetime.now()\n",
    "eclf1 = VotingClassifier(estimators=[\n",
    "         ('lr', clf1), ('svm', clf2), ('rf', clf3)], voting='hard')\n",
    "eclf1 = eclf1.fit(X_train, Y_train)\n",
    "#print(\"This took1 \", datetime.now() - start)\n",
    "print(eclf1.predict(X_train))\n",
    "\n",
    "start = datetime.now()\n",
    "eclf2 = VotingClassifier(estimators=[\n",
    "         ('lr', clf1), ('svm', clf2), ('rf', clf3)],\n",
    "        voting='soft')\n",
    "eclf2 = eclf2.fit(X_train, Y_train)\n",
    "#print(\"This took2 \", datetime.now() - start)\n",
    "print(eclf2.predict(X_train))"
   ]
  },
  {
   "cell_type": "code",
   "execution_count": 10,
   "metadata": {
    "collapsed": true
   },
   "outputs": [],
   "source": [
    "userhome = os.path.expanduser('~')\n",
    "path = '/Documents/Sem3/MachineLearning/Project/datav2/'\n",
    "X_test = pd.read_csv(userhome + path + 'X_test_v2.csv')\n",
    "Y_test = pd.read_csv(userhome + path + 'Y_test_v2.csv',header=None )"
   ]
  },
  {
   "cell_type": "code",
   "execution_count": 11,
   "metadata": {
    "collapsed": true
   },
   "outputs": [],
   "source": [
    "Y_test = Y_test.iloc[:,0]"
   ]
  },
  {
   "cell_type": "code",
   "execution_count": 12,
   "metadata": {
    "collapsed": true
   },
   "outputs": [],
   "source": [
    "Y_pred1 = eclf1.predict(X_test)\n",
    "Y_pred2 = eclf2.predict(X_test)\n"
   ]
  },
  {
   "cell_type": "code",
   "execution_count": 13,
   "metadata": {
    "scrolled": true
   },
   "outputs": [
    {
     "name": "stdout",
     "output_type": "stream",
     "text": [
      "The accuracy of the svm classifier on training data is 0.86 \n",
      "The accuracy of the svm classifier on training data is 0.85 \n"
     ]
    }
   ],
   "source": [
    "print('The accuracy of the svm classifier on training data is {:.2f} '.format(eclf1.score(X_test, Y_test)))\n",
    "print('The accuracy of the svm classifier on training data is {:.2f} '.format(eclf2.score(X_test, Y_test)))"
   ]
  },
  {
   "cell_type": "code",
   "execution_count": 14,
   "metadata": {
    "scrolled": true
   },
   "outputs": [
    {
     "name": "stdout",
     "output_type": "stream",
     "text": [
      "[[1735  904]\n",
      " [ 545 6996]]\n"
     ]
    },
    {
     "data": {
      "text/plain": [
       "<matplotlib.axes._subplots.AxesSubplot at 0x111483fd0>"
      ]
     },
     "execution_count": 14,
     "metadata": {},
     "output_type": "execute_result"
    },
    {
     "data": {
      "image/png": "[encoded data removed]",
      "text/plain": [
       "<matplotlib.figure.Figure at 0x111483358>"
      ]
     },
     "metadata": {},
     "output_type": "display_data"
    }
   ],
   "source": [
    "confusion_mat = confusion_matrix(Y_test,Y_pred1)\n",
    "print(confusion_mat)\n",
    "skplt.metrics.plot_confusion_matrix(Y_test, Y_pred1, normalize=False)"
   ]
  },
  {
   "cell_type": "code",
   "execution_count": 15,
   "metadata": {},
   "outputs": [
    {
     "name": "stdout",
     "output_type": "stream",
     "text": [
      "[[1721  918]\n",
      " [ 566 6975]]\n"
     ]
    },
    {
     "data": {
      "text/plain": [
       "<matplotlib.axes._subplots.AxesSubplot at 0x10d8d6780>"
      ]
     },
     "execution_count": 15,
     "metadata": {},
     "output_type": "execute_result"
    },
    {
     "data": {
      "image/png": "[encoded data removed]",
      "text/plain": [
       "<matplotlib.figure.Figure at 0x109675588>"
      ]
     },
     "metadata": {},
     "output_type": "display_data"
    }
   ],
   "source": [
    "confusion_mat = confusion_matrix(Y_test,Y_pred2)\n",
    "print(confusion_mat)\n",
    "skplt.metrics.plot_confusion_matrix(Y_test, Y_pred2, normalize=False)"
   ]
  },
  {
   "cell_type": "code",
   "execution_count": 16,
   "metadata": {
    "scrolled": true
   },
   "outputs": [
    {
     "name": "stdout",
     "output_type": "stream",
     "text": [
      "             precision    recall  f1-score   support\n",
      "\n",
      "          0       0.76      0.66      0.71      2639\n",
      "          1       0.89      0.93      0.91      7541\n",
      "\n",
      "avg / total       0.85      0.86      0.85     10180\n",
      "\n"
     ]
    }
   ],
   "source": [
    "print(classification_report(Y_test,Y_pred1))"
   ]
  },
  {
   "cell_type": "code",
   "execution_count": 17,
   "metadata": {
    "scrolled": true
   },
   "outputs": [
    {
     "name": "stdout",
     "output_type": "stream",
     "text": [
      "             precision    recall  f1-score   support\n",
      "\n",
      "          0       0.75      0.65      0.70      2639\n",
      "          1       0.88      0.92      0.90      7541\n",
      "\n",
      "avg / total       0.85      0.85      0.85     10180\n",
      "\n"
     ]
    }
   ],
   "source": [
    "print(classification_report(Y_test,Y_pred2))"
   ]
  },
  {
   "cell_type": "code",
   "execution_count": 18,
   "metadata": {
    "scrolled": true
   },
   "outputs": [
    {
     "name": "stdout",
     "output_type": "stream",
     "text": [
      "0.857662082515\n"
     ]
    }
   ],
   "source": [
    "print(accuracy_score(Y_test,Y_pred1))"
   ]
  },
  {
   "cell_type": "code",
   "execution_count": 19,
   "metadata": {
    "scrolled": false
   },
   "outputs": [
    {
     "name": "stdout",
     "output_type": "stream",
     "text": [
      "0.854223968566\n"
     ]
    }
   ],
   "source": [
    "print(accuracy_score(Y_test,Y_pred2))"
   ]
  }
 ],
 "metadata": {
  "kernelspec": {
   "display_name": "Python 3",
   "language": "python",
   "name": "python3"
  },
  "language_info": {
   "codemirror_mode": {
    "name": "ipython",
    "version": 3
   },
   "file_extension": ".py",
   "mimetype": "text/x-python",
   "name": "python",
   "nbconvert_exporter": "python",
   "pygments_lexer": "ipython3",
   "version": "3.6.3"
  }
 },
 "nbformat": 4,
 "nbformat_minor": 2
}
